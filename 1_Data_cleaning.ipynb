{
 "cells": [
  {
   "cell_type": "code",
   "execution_count": 3,
   "metadata": {},
   "outputs": [],
   "source": [
    "# Importing Libraries for parfume project\n",
    "import pandas as pd\n",
    "import matplotlib.pyplot as plt \n",
    "import seaborn as sns\n",
    "import ast "
   ]
  },
  {
   "cell_type": "code",
   "execution_count": 4,
   "metadata": {},
   "outputs": [],
   "source": [
    "# Loading out dataset\n",
    "all_parfumes = pd.read_csv('frag_dataset.csv')"
   ]
  },
  {
   "cell_type": "code",
   "execution_count": 5,
   "metadata": {},
   "outputs": [
    {
     "data": {
      "text/html": [
       "<div>\n",
       "<style scoped>\n",
       "    .dataframe tbody tr th:only-of-type {\n",
       "        vertical-align: middle;\n",
       "    }\n",
       "\n",
       "    .dataframe tbody tr th {\n",
       "        vertical-align: top;\n",
       "    }\n",
       "\n",
       "    .dataframe thead th {\n",
       "        text-align: right;\n",
       "    }\n",
       "</style>\n",
       "<table border=\"1\" class=\"dataframe\">\n",
       "  <thead>\n",
       "    <tr style=\"text-align: right;\">\n",
       "      <th></th>\n",
       "      <th>brand</th>\n",
       "      <th>perfume</th>\n",
       "      <th>image</th>\n",
       "      <th>launch_year</th>\n",
       "      <th>main_accords</th>\n",
       "      <th>notes</th>\n",
       "      <th>longevity</th>\n",
       "      <th>sillage</th>\n",
       "    </tr>\n",
       "  </thead>\n",
       "  <tbody>\n",
       "    <tr>\n",
       "      <th>24373</th>\n",
       "      <td>Omnia Profumi</td>\n",
       "      <td>Onice</td>\n",
       "      <td>o.9535.jpg</td>\n",
       "      <td>2005.0</td>\n",
       "      <td>[\"sweet\", \"fresh spicy\", \"soft spicy\", \"aromat...</td>\n",
       "      <td>[\"Citruses\", \"Anise\", \"Lavender\", \"Licorice\", ...</td>\n",
       "      <td>[\"0\", \"1\", \"1\", \"1\", \"2\"]</td>\n",
       "      <td>[\"1\", \"4\", \"0\", \"1\"]</td>\n",
       "    </tr>\n",
       "    <tr>\n",
       "      <th>15747</th>\n",
       "      <td>Juliette Has A Gun</td>\n",
       "      <td>Calamity J</td>\n",
       "      <td>o.6856.jpg</td>\n",
       "      <td>2009.0</td>\n",
       "      <td>[\"amber\", \"musky\", \"powdery\", \"warm spicy\", \"b...</td>\n",
       "      <td>{\"middle\": [\"iris\", \"Iso E Super\"], \"base\": [\"...</td>\n",
       "      <td>[\"9\", \"9\", \"40\", \"14\", \"5\"]</td>\n",
       "      <td>[\"31\", \"40\", \"12\", \"13\"]</td>\n",
       "    </tr>\n",
       "    <tr>\n",
       "      <th>35590</th>\n",
       "      <td>Shiseido</td>\n",
       "      <td>Dignita</td>\n",
       "      <td>o.12480.jpg</td>\n",
       "      <td>1998.0</td>\n",
       "      <td>[\"white floral\", \"tuberose\", \"woody\", \"musky\",...</td>\n",
       "      <td>{\"middle\": [\"Jasmine\", \"White Flowers\", \"Tuber...</td>\n",
       "      <td>[\"0\", \"2\", \"0\", \"1\", \"1\"]</td>\n",
       "      <td>[\"0\", \"1\", \"0\", \"4\"]</td>\n",
       "    </tr>\n",
       "    <tr>\n",
       "      <th>727</th>\n",
       "      <td>Aramis</td>\n",
       "      <td>Aramis Ice</td>\n",
       "      <td>o.119.jpg</td>\n",
       "      <td>2003.0</td>\n",
       "      <td>[\"woody\", \"balsamic\", \"aromatic\", \"citrus\", \"f...</td>\n",
       "      <td>[\"Aldehydes\", \"Orange\", \"Amber\", \"Sandalwood\",...</td>\n",
       "      <td>[\"0\", \"1\", \"1\", \"1\", \"1\"]</td>\n",
       "      <td>[\"1\", \"2\", \"2\", \"2\"]</td>\n",
       "    </tr>\n",
       "    <tr>\n",
       "      <th>14561</th>\n",
       "      <td>Guerlain</td>\n",
       "      <td>Un Air de Samsara</td>\n",
       "      <td>o.3826.jpg</td>\n",
       "      <td>1995.0</td>\n",
       "      <td>[\"green\", \"aromatic\", \"white floral\", \"fresh s...</td>\n",
       "      <td>{\"middle\": [\"Jasmine\", \"Narcissus\"], \"base\": n...</td>\n",
       "      <td>[\"3\", \"3\", \"12\", \"4\", \"2\"]</td>\n",
       "      <td>[\"4\", \"13\", \"5\", \"4\"]</td>\n",
       "    </tr>\n",
       "    <tr>\n",
       "      <th>27203</th>\n",
       "      <td>Lush</td>\n",
       "      <td>29 High Street</td>\n",
       "      <td>o.39761.jpg</td>\n",
       "      <td>2013.0</td>\n",
       "      <td>[\"sweet\", \"fruity\", \"sour\", \"green\", \"caramel\"...</td>\n",
       "      <td>[\"Green Notes\", \"Floral Fruity Notes\", \"Sweet ...</td>\n",
       "      <td>[\"0\", \"0\", \"0\", \"1\", \"0\"]</td>\n",
       "      <td>[\"0\", \"0\", \"2\", \"0\"]</td>\n",
       "    </tr>\n",
       "    <tr>\n",
       "      <th>27090</th>\n",
       "      <td>Laurelle London</td>\n",
       "      <td>Butterfly Kisses</td>\n",
       "      <td>o.37270.jpg</td>\n",
       "      <td>NaN</td>\n",
       "      <td>NaN</td>\n",
       "      <td>NaN</td>\n",
       "      <td>[\"0\", \"0\", \"0\", \"0\", \"0\"]</td>\n",
       "      <td>[\"0\", \"0\", \"0\", \"0\"]</td>\n",
       "    </tr>\n",
       "    <tr>\n",
       "      <th>37280</th>\n",
       "      <td>PanVel</td>\n",
       "      <td>Musk Inspirador</td>\n",
       "      <td>o.38597.jpg</td>\n",
       "      <td>2015.0</td>\n",
       "      <td>[\"floral\", \"fruity\", \"green\", \"fresh spicy\", \"...</td>\n",
       "      <td>[\"Musk\", \"Freesia\", \"Green Apple\"]</td>\n",
       "      <td>[\"0\", \"0\", \"0\", \"0\", \"0\"]</td>\n",
       "      <td>[\"0\", \"0\", \"0\", \"0\"]</td>\n",
       "    </tr>\n",
       "    <tr>\n",
       "      <th>8819</th>\n",
       "      <td>Slumberhouse</td>\n",
       "      <td>Kiste</td>\n",
       "      <td>o.31278.jpg</td>\n",
       "      <td>2015.0</td>\n",
       "      <td>[\"sweet\", \"fruity\", \"honey\", \"tobacco\", \"aroma...</td>\n",
       "      <td>[\"Tobacco\", \"Peach\", \"heather\", \"Tonka Bean\", ...</td>\n",
       "      <td>[\"3\", \"2\", \"6\", \"18\", \"40\"]</td>\n",
       "      <td>[\"8\", \"24\", \"29\", \"21\"]</td>\n",
       "    </tr>\n",
       "    <tr>\n",
       "      <th>4382</th>\n",
       "      <td>Ellen Tracy</td>\n",
       "      <td>Peony Rose</td>\n",
       "      <td>o.12638.jpg</td>\n",
       "      <td>NaN</td>\n",
       "      <td>[\"floral\", \"fresh\", \"rose\", \"white floral\", \"a...</td>\n",
       "      <td>[\"Gardenia\", \"Peony\"]</td>\n",
       "      <td>[\"1\", \"1\", \"4\", \"2\", \"0\"]</td>\n",
       "      <td>[\"1\", \"6\", \"1\", \"0\"]</td>\n",
       "    </tr>\n",
       "  </tbody>\n",
       "</table>\n",
       "</div>"
      ],
      "text/plain": [
       "                    brand            perfume        image  launch_year  \\\n",
       "24373       Omnia Profumi              Onice   o.9535.jpg       2005.0   \n",
       "15747  Juliette Has A Gun         Calamity J   o.6856.jpg       2009.0   \n",
       "35590            Shiseido            Dignita  o.12480.jpg       1998.0   \n",
       "727                Aramis         Aramis Ice    o.119.jpg       2003.0   \n",
       "14561            Guerlain  Un Air de Samsara   o.3826.jpg       1995.0   \n",
       "27203                Lush     29 High Street  o.39761.jpg       2013.0   \n",
       "27090     Laurelle London   Butterfly Kisses  o.37270.jpg          NaN   \n",
       "37280              PanVel    Musk Inspirador  o.38597.jpg       2015.0   \n",
       "8819         Slumberhouse              Kiste  o.31278.jpg       2015.0   \n",
       "4382          Ellen Tracy         Peony Rose  o.12638.jpg          NaN   \n",
       "\n",
       "                                            main_accords  \\\n",
       "24373  [\"sweet\", \"fresh spicy\", \"soft spicy\", \"aromat...   \n",
       "15747  [\"amber\", \"musky\", \"powdery\", \"warm spicy\", \"b...   \n",
       "35590  [\"white floral\", \"tuberose\", \"woody\", \"musky\",...   \n",
       "727    [\"woody\", \"balsamic\", \"aromatic\", \"citrus\", \"f...   \n",
       "14561  [\"green\", \"aromatic\", \"white floral\", \"fresh s...   \n",
       "27203  [\"sweet\", \"fruity\", \"sour\", \"green\", \"caramel\"...   \n",
       "27090                                                NaN   \n",
       "37280  [\"floral\", \"fruity\", \"green\", \"fresh spicy\", \"...   \n",
       "8819   [\"sweet\", \"fruity\", \"honey\", \"tobacco\", \"aroma...   \n",
       "4382   [\"floral\", \"fresh\", \"rose\", \"white floral\", \"a...   \n",
       "\n",
       "                                                   notes  \\\n",
       "24373  [\"Citruses\", \"Anise\", \"Lavender\", \"Licorice\", ...   \n",
       "15747  {\"middle\": [\"iris\", \"Iso E Super\"], \"base\": [\"...   \n",
       "35590  {\"middle\": [\"Jasmine\", \"White Flowers\", \"Tuber...   \n",
       "727    [\"Aldehydes\", \"Orange\", \"Amber\", \"Sandalwood\",...   \n",
       "14561  {\"middle\": [\"Jasmine\", \"Narcissus\"], \"base\": n...   \n",
       "27203  [\"Green Notes\", \"Floral Fruity Notes\", \"Sweet ...   \n",
       "27090                                                NaN   \n",
       "37280                 [\"Musk\", \"Freesia\", \"Green Apple\"]   \n",
       "8819   [\"Tobacco\", \"Peach\", \"heather\", \"Tonka Bean\", ...   \n",
       "4382                               [\"Gardenia\", \"Peony\"]   \n",
       "\n",
       "                         longevity                   sillage  \n",
       "24373    [\"0\", \"1\", \"1\", \"1\", \"2\"]      [\"1\", \"4\", \"0\", \"1\"]  \n",
       "15747  [\"9\", \"9\", \"40\", \"14\", \"5\"]  [\"31\", \"40\", \"12\", \"13\"]  \n",
       "35590    [\"0\", \"2\", \"0\", \"1\", \"1\"]      [\"0\", \"1\", \"0\", \"4\"]  \n",
       "727      [\"0\", \"1\", \"1\", \"1\", \"1\"]      [\"1\", \"2\", \"2\", \"2\"]  \n",
       "14561   [\"3\", \"3\", \"12\", \"4\", \"2\"]     [\"4\", \"13\", \"5\", \"4\"]  \n",
       "27203    [\"0\", \"0\", \"0\", \"1\", \"0\"]      [\"0\", \"0\", \"2\", \"0\"]  \n",
       "27090    [\"0\", \"0\", \"0\", \"0\", \"0\"]      [\"0\", \"0\", \"0\", \"0\"]  \n",
       "37280    [\"0\", \"0\", \"0\", \"0\", \"0\"]      [\"0\", \"0\", \"0\", \"0\"]  \n",
       "8819   [\"3\", \"2\", \"6\", \"18\", \"40\"]   [\"8\", \"24\", \"29\", \"21\"]  \n",
       "4382     [\"1\", \"1\", \"4\", \"2\", \"0\"]      [\"1\", \"6\", \"1\", \"0\"]  "
      ]
     },
     "execution_count": 5,
     "metadata": {},
     "output_type": "execute_result"
    }
   ],
   "source": [
    "# Overview\n",
    "\n",
    "all_parfumes.sample(10)"
   ]
  },
  {
   "cell_type": "code",
   "execution_count": 6,
   "metadata": {},
   "outputs": [
    {
     "data": {
      "text/html": [
       "<div>\n",
       "<style scoped>\n",
       "    .dataframe tbody tr th:only-of-type {\n",
       "        vertical-align: middle;\n",
       "    }\n",
       "\n",
       "    .dataframe tbody tr th {\n",
       "        vertical-align: top;\n",
       "    }\n",
       "\n",
       "    .dataframe thead th {\n",
       "        text-align: right;\n",
       "    }\n",
       "</style>\n",
       "<table border=\"1\" class=\"dataframe\">\n",
       "  <thead>\n",
       "    <tr style=\"text-align: right;\">\n",
       "      <th></th>\n",
       "      <th>brand</th>\n",
       "      <th>perfume</th>\n",
       "      <th>launch_year</th>\n",
       "      <th>main_accords</th>\n",
       "      <th>notes</th>\n",
       "    </tr>\n",
       "  </thead>\n",
       "  <tbody>\n",
       "    <tr>\n",
       "      <th>0</th>\n",
       "      <td>18 21 Man Made</td>\n",
       "      <td>Sweet Tobacco Spirits</td>\n",
       "      <td>2016.0</td>\n",
       "      <td>[\"wine\", \"vanilla\", \"sweet\", \"woody\", \"aromatic\"]</td>\n",
       "      <td>[\"Citruses\", \"Saffron\", \"Tonka Bean\", \"Vanilla...</td>\n",
       "    </tr>\n",
       "    <tr>\n",
       "      <th>1</th>\n",
       "      <td>40 Notes Perfume</td>\n",
       "      <td>Cashmere Musk</td>\n",
       "      <td>NaN</td>\n",
       "      <td>[\"woody\", \"musky\", \"balsamic\", \"powdery\", \"war...</td>\n",
       "      <td>[\"Sandalwood\", \"Cedar\", \"White Musk\", \"Cashmer...</td>\n",
       "    </tr>\n",
       "    <tr>\n",
       "      <th>2</th>\n",
       "      <td>40 Notes Perfume</td>\n",
       "      <td>Exotic Ylang Ylang</td>\n",
       "      <td>NaN</td>\n",
       "      <td>[\"yellow floral\", \"white floral\", \"sweet\", \"mu...</td>\n",
       "      <td>[\"Ylang-Ylang\", \"Gardenia\", \"Musk\"]</td>\n",
       "    </tr>\n",
       "    <tr>\n",
       "      <th>3</th>\n",
       "      <td>40 Notes Perfume</td>\n",
       "      <td>Exquisite Amber</td>\n",
       "      <td>NaN</td>\n",
       "      <td>[\"balsamic\", \"vanilla\", \"amber\", \"musky\", \"war...</td>\n",
       "      <td>[\"Labdanum\", \"Styrax\", \"Benzoin\", \"Vanilla\", \"...</td>\n",
       "    </tr>\n",
       "    <tr>\n",
       "      <th>4</th>\n",
       "      <td>40 Notes Perfume</td>\n",
       "      <td>Oudwood Veil</td>\n",
       "      <td>NaN</td>\n",
       "      <td>[\"oud\", \"amber\", \"fresh spicy\", \"balsamic\", \"w...</td>\n",
       "      <td>[\"Kephalis\", \"Agarwood (Oud)\"]</td>\n",
       "    </tr>\n",
       "    <tr>\n",
       "      <th>...</th>\n",
       "      <td>...</td>\n",
       "      <td>...</td>\n",
       "      <td>...</td>\n",
       "      <td>...</td>\n",
       "      <td>...</td>\n",
       "    </tr>\n",
       "    <tr>\n",
       "      <th>37921</th>\n",
       "      <td>Urban Rituelle</td>\n",
       "      <td>Lemongrass Blend</td>\n",
       "      <td>NaN</td>\n",
       "      <td>[\"citrus\", \"fresh spicy\", \"aromatic\", \"herbal\"...</td>\n",
       "      <td>[\"Lemongrass\", \"Myrtle\", \"Grapefruit\", \"Eucaly...</td>\n",
       "    </tr>\n",
       "    <tr>\n",
       "      <th>37922</th>\n",
       "      <td>Urban Rituelle</td>\n",
       "      <td>Peach Blossom</td>\n",
       "      <td>NaN</td>\n",
       "      <td>[\"sweet\", \"honey\", \"white floral\", \"floral\", \"...</td>\n",
       "      <td>[\"Peach\", \"Honey\", \"Sweet Pea\", \"Mimosa\"]</td>\n",
       "    </tr>\n",
       "    <tr>\n",
       "      <th>37923</th>\n",
       "      <td>Urban Rituelle</td>\n",
       "      <td>Pomegranate</td>\n",
       "      <td>NaN</td>\n",
       "      <td>[\"fruity\", \"citrus\", \"fresh\", \"woody\", \"sweet\"...</td>\n",
       "      <td>[\"Pomegranate\", \"Citruses\", \"Red Berries\"]</td>\n",
       "    </tr>\n",
       "    <tr>\n",
       "      <th>37924</th>\n",
       "      <td>Urban Rituelle</td>\n",
       "      <td>Vanilla</td>\n",
       "      <td>NaN</td>\n",
       "      <td>[\"vanilla\", \"caramel\", \"milky\", \"sweet\", \"powd...</td>\n",
       "      <td>[\"Vanilla\", \"Caramel\", \"Milk\"]</td>\n",
       "    </tr>\n",
       "    <tr>\n",
       "      <th>37925</th>\n",
       "      <td>Urban Rituelle</td>\n",
       "      <td>Vanilla Blend</td>\n",
       "      <td>NaN</td>\n",
       "      <td>[\"aromatic\", \"fresh spicy\", \"vanilla\", \"floral...</td>\n",
       "      <td>[\"Vanilla\", \"Lavender\", \"Geranium\"]</td>\n",
       "    </tr>\n",
       "  </tbody>\n",
       "</table>\n",
       "<p>37926 rows × 5 columns</p>\n",
       "</div>"
      ],
      "text/plain": [
       "                  brand                perfume  launch_year  \\\n",
       "0        18 21 Man Made  Sweet Tobacco Spirits       2016.0   \n",
       "1      40 Notes Perfume          Cashmere Musk          NaN   \n",
       "2      40 Notes Perfume     Exotic Ylang Ylang          NaN   \n",
       "3      40 Notes Perfume        Exquisite Amber          NaN   \n",
       "4      40 Notes Perfume           Oudwood Veil          NaN   \n",
       "...                 ...                    ...          ...   \n",
       "37921    Urban Rituelle       Lemongrass Blend          NaN   \n",
       "37922    Urban Rituelle          Peach Blossom          NaN   \n",
       "37923    Urban Rituelle            Pomegranate          NaN   \n",
       "37924    Urban Rituelle                Vanilla          NaN   \n",
       "37925    Urban Rituelle          Vanilla Blend          NaN   \n",
       "\n",
       "                                            main_accords  \\\n",
       "0      [\"wine\", \"vanilla\", \"sweet\", \"woody\", \"aromatic\"]   \n",
       "1      [\"woody\", \"musky\", \"balsamic\", \"powdery\", \"war...   \n",
       "2      [\"yellow floral\", \"white floral\", \"sweet\", \"mu...   \n",
       "3      [\"balsamic\", \"vanilla\", \"amber\", \"musky\", \"war...   \n",
       "4      [\"oud\", \"amber\", \"fresh spicy\", \"balsamic\", \"w...   \n",
       "...                                                  ...   \n",
       "37921  [\"citrus\", \"fresh spicy\", \"aromatic\", \"herbal\"...   \n",
       "37922  [\"sweet\", \"honey\", \"white floral\", \"floral\", \"...   \n",
       "37923  [\"fruity\", \"citrus\", \"fresh\", \"woody\", \"sweet\"...   \n",
       "37924  [\"vanilla\", \"caramel\", \"milky\", \"sweet\", \"powd...   \n",
       "37925  [\"aromatic\", \"fresh spicy\", \"vanilla\", \"floral...   \n",
       "\n",
       "                                                   notes  \n",
       "0      [\"Citruses\", \"Saffron\", \"Tonka Bean\", \"Vanilla...  \n",
       "1      [\"Sandalwood\", \"Cedar\", \"White Musk\", \"Cashmer...  \n",
       "2                    [\"Ylang-Ylang\", \"Gardenia\", \"Musk\"]  \n",
       "3      [\"Labdanum\", \"Styrax\", \"Benzoin\", \"Vanilla\", \"...  \n",
       "4                         [\"Kephalis\", \"Agarwood (Oud)\"]  \n",
       "...                                                  ...  \n",
       "37921  [\"Lemongrass\", \"Myrtle\", \"Grapefruit\", \"Eucaly...  \n",
       "37922          [\"Peach\", \"Honey\", \"Sweet Pea\", \"Mimosa\"]  \n",
       "37923         [\"Pomegranate\", \"Citruses\", \"Red Berries\"]  \n",
       "37924                     [\"Vanilla\", \"Caramel\", \"Milk\"]  \n",
       "37925                [\"Vanilla\", \"Lavender\", \"Geranium\"]  \n",
       "\n",
       "[37926 rows x 5 columns]"
      ]
     },
     "execution_count": 6,
     "metadata": {},
     "output_type": "execute_result"
    }
   ],
   "source": [
    "# removing columns that we don't need for the analysis\n",
    "\n",
    "all_parfumes_cleaned = all_parfumes.drop(columns=['image', 'longevity', 'sillage'])\n",
    "\n",
    "all_parfumes_cleaned"
   ]
  },
  {
   "cell_type": "code",
   "execution_count": 7,
   "metadata": {},
   "outputs": [
    {
     "name": "stdout",
     "output_type": "stream",
     "text": [
      "<class 'pandas.core.frame.DataFrame'>\n",
      "RangeIndex: 37926 entries, 0 to 37925\n",
      "Data columns (total 5 columns):\n",
      " #   Column        Non-Null Count  Dtype  \n",
      "---  ------        --------------  -----  \n",
      " 0   brand         37926 non-null  object \n",
      " 1   perfume       37923 non-null  object \n",
      " 2   launch_year   26716 non-null  float64\n",
      " 3   main_accords  36957 non-null  object \n",
      " 4   notes         36969 non-null  object \n",
      "dtypes: float64(1), object(4)\n",
      "memory usage: 1.4+ MB\n"
     ]
    }
   ],
   "source": [
    "# Inspecting datatypes and null values \n",
    "\n",
    "all_parfumes_cleaned.info()"
   ]
  },
  {
   "cell_type": "code",
   "execution_count": 8,
   "metadata": {},
   "outputs": [
    {
     "data": {
      "text/plain": [
       "brand               0\n",
       "perfume             3\n",
       "launch_year     11210\n",
       "main_accords      969\n",
       "notes             957\n",
       "dtype: int64"
      ]
     },
     "execution_count": 8,
     "metadata": {},
     "output_type": "execute_result"
    }
   ],
   "source": [
    "#Inspect Missing Values\n",
    "\n",
    "all_parfumes_cleaned.isnull().sum()"
   ]
  },
  {
   "cell_type": "code",
   "execution_count": 9,
   "metadata": {},
   "outputs": [
    {
     "data": {
      "text/plain": [
       "brand               0\n",
       "perfume             0\n",
       "launch_year     11208\n",
       "main_accords      969\n",
       "notes             957\n",
       "dtype: int64"
      ]
     },
     "execution_count": 9,
     "metadata": {},
     "output_type": "execute_result"
    }
   ],
   "source": [
    "# removing pafumes without brand data\n",
    "\n",
    "all_parfumes_cleaned = all_parfumes_cleaned.dropna(subset=['perfume'])\n",
    "\n",
    "all_parfumes_cleaned.isnull().sum()\n"
   ]
  },
  {
   "cell_type": "code",
   "execution_count": 10,
   "metadata": {},
   "outputs": [
    {
     "name": "stderr",
     "output_type": "stream",
     "text": [
      "/var/folders/jq/9vrfyvt57yv6zsk7ddnttm3h0000gn/T/ipykernel_19381/882429132.py:3: FutureWarning: Setting an item of incompatible dtype is deprecated and will raise an error in a future version of pandas. Value 'Unknown' has dtype incompatible with float64, please explicitly cast to a compatible dtype first.\n",
      "  all_parfumes_cleaned.fillna('Unknown', inplace=True)\n",
      "/var/folders/jq/9vrfyvt57yv6zsk7ddnttm3h0000gn/T/ipykernel_19381/882429132.py:3: SettingWithCopyWarning: \n",
      "A value is trying to be set on a copy of a slice from a DataFrame\n",
      "\n",
      "See the caveats in the documentation: https://pandas.pydata.org/pandas-docs/stable/user_guide/indexing.html#returning-a-view-versus-a-copy\n",
      "  all_parfumes_cleaned.fillna('Unknown', inplace=True)\n"
     ]
    }
   ],
   "source": [
    "#filling Null values so we can use ast function \n",
    "\n",
    "all_parfumes_cleaned.fillna('Unknown', inplace=True)"
   ]
  },
  {
   "cell_type": "code",
   "execution_count": 11,
   "metadata": {},
   "outputs": [
    {
     "data": {
      "text/plain": [
       "brand           0\n",
       "perfume         0\n",
       "launch_year     0\n",
       "main_accords    0\n",
       "notes           0\n",
       "dtype: int64"
      ]
     },
     "execution_count": 11,
     "metadata": {},
     "output_type": "execute_result"
    }
   ],
   "source": [
    "all_parfumes_cleaned.isnull().sum()"
   ]
  },
  {
   "cell_type": "code",
   "execution_count": 12,
   "metadata": {},
   "outputs": [
    {
     "name": "stdout",
     "output_type": "stream",
     "text": [
      "[<class 'str'>]\n",
      "[<class 'str'>]\n"
     ]
    }
   ],
   "source": [
    "# Finding unique datatypes \n",
    "\n",
    "print(all_parfumes_cleaned['main_accords'].apply(type).unique())\n",
    "print(all_parfumes_cleaned['notes'].apply(type).unique())"
   ]
  },
  {
   "cell_type": "code",
   "execution_count": 13,
   "metadata": {},
   "outputs": [
    {
     "name": "stderr",
     "output_type": "stream",
     "text": [
      "/var/folders/jq/9vrfyvt57yv6zsk7ddnttm3h0000gn/T/ipykernel_19381/1371075401.py:2: SettingWithCopyWarning: \n",
      "A value is trying to be set on a copy of a slice from a DataFrame.\n",
      "Try using .loc[row_indexer,col_indexer] = value instead\n",
      "\n",
      "See the caveats in the documentation: https://pandas.pydata.org/pandas-docs/stable/user_guide/indexing.html#returning-a-view-versus-a-copy\n",
      "  all_parfumes_cleaned['main_accords'] = all_parfumes_cleaned['main_accords'].astype(str)\n",
      "/var/folders/jq/9vrfyvt57yv6zsk7ddnttm3h0000gn/T/ipykernel_19381/1371075401.py:3: SettingWithCopyWarning: \n",
      "A value is trying to be set on a copy of a slice from a DataFrame.\n",
      "Try using .loc[row_indexer,col_indexer] = value instead\n",
      "\n",
      "See the caveats in the documentation: https://pandas.pydata.org/pandas-docs/stable/user_guide/indexing.html#returning-a-view-versus-a-copy\n",
      "  all_parfumes_cleaned['notes'] = all_parfumes_cleaned['notes'].astype(str)\n"
     ]
    }
   ],
   "source": [
    "\n",
    "# Convert all values to strings first\n",
    "all_parfumes_cleaned['main_accords'] = all_parfumes_cleaned['main_accords'].astype(str)\n",
    "all_parfumes_cleaned['notes'] = all_parfumes_cleaned['notes'].astype(str)"
   ]
  },
  {
   "cell_type": "code",
   "execution_count": null,
   "metadata": {},
   "outputs": [],
   "source": [
    "# Since we have different datatypes we need to loop throught every row  \n",
    "\n",
    "def safe_literal_eval(value):\n",
    "    try: #we used --try-- insted of --if-- because we are not sure about type of date is iterated\n",
    "        return ast.literal_eval(value)  # Try to convert the string to the list first\n",
    "    except (ValueError, SyntaxError):  # is error then return what we had befor\n",
    "        return value \n",
    "\n",
    "# Apply ast.literal_eval after converting everything to strings\n",
    "all_parfumes_cleaned['main_accords'] = all_parfumes_cleaned['main_accords'].apply(safe_literal_eval)\n",
    "all_parfumes_cleaned['notes'] = all_parfumes_cleaned['notes'].apply(safe_literal_eval)"
   ]
  },
  {
   "cell_type": "code",
   "execution_count": 15,
   "metadata": {},
   "outputs": [
    {
     "name": "stdout",
     "output_type": "stream",
     "text": [
      "<class 'pandas.core.frame.DataFrame'>\n",
      "Index: 37923 entries, 0 to 37925\n",
      "Data columns (total 5 columns):\n",
      " #   Column        Non-Null Count  Dtype \n",
      "---  ------        --------------  ----- \n",
      " 0   brand         37923 non-null  object\n",
      " 1   perfume       37923 non-null  object\n",
      " 2   launch_year   37923 non-null  object\n",
      " 3   main_accords  37923 non-null  object\n",
      " 4   notes         37923 non-null  object\n",
      "dtypes: object(5)\n",
      "memory usage: 1.7+ MB\n"
     ]
    }
   ],
   "source": [
    "# Result \n",
    "\n",
    "all_parfumes_cleaned.info()"
   ]
  },
  {
   "cell_type": "code",
   "execution_count": null,
   "metadata": {},
   "outputs": [],
   "source": [
    "# Function to ensure all values are lists\n",
    "def ensure_list(value):\n",
    "    if isinstance(value, list):\n",
    "        return value  # If it's already a list, return it as is\n",
    "    else:\n",
    "        return [value]  # Otherwise, wrap the value in a list\n",
    "\n",
    "# Apply the function to both 'main_accords' and 'notes' columns\n",
    "all_parfumes_cleaned['main_accords'] = all_parfumes_cleaned['main_accords'].apply(ensure_list)\n",
    "all_parfumes_cleaned['notes'] = all_parfumes_cleaned['notes'].apply(ensure_list)"
   ]
  },
  {
   "cell_type": "code",
   "execution_count": 25,
   "metadata": {},
   "outputs": [
    {
     "name": "stdout",
     "output_type": "stream",
     "text": [
      "[<class 'list'>]\n",
      "[<class 'list'>]\n"
     ]
    }
   ],
   "source": [
    "# Finally everthing is list!\n",
    "\n",
    "print(all_parfumes_cleaned['main_accords'].apply(type).unique())\n",
    "print(all_parfumes_cleaned['notes'].apply(type).unique())"
   ]
  },
  {
   "cell_type": "code",
   "execution_count": null,
   "metadata": {},
   "outputs": [],
   "source": [
    "#Clean Text Columns, all lowercase, removing whitespaces \n",
    "\n",
    "all_parfumes_cleaned['brand'] = all_parfumes_cleaned['brand'].str.lower().str.strip()\n",
    "all_parfumes_cleaned['perfume'] = all_parfumes_cleaned['perfume'].str.lower().str.strip()"
   ]
  },
  {
   "cell_type": "code",
   "execution_count": 23,
   "metadata": {},
   "outputs": [
    {
     "name": "stdout",
     "output_type": "stream",
     "text": [
      "<class 'pandas.core.frame.DataFrame'>\n",
      "Index: 37923 entries, 0 to 37925\n",
      "Data columns (total 5 columns):\n",
      " #   Column        Non-Null Count  Dtype \n",
      "---  ------        --------------  ----- \n",
      " 0   brand         37923 non-null  object\n",
      " 1   perfume       37923 non-null  object\n",
      " 2   launch_year   37923 non-null  object\n",
      " 3   main_accords  37923 non-null  object\n",
      " 4   notes         37923 non-null  object\n",
      "dtypes: object(5)\n",
      "memory usage: 1.7+ MB\n"
     ]
    }
   ],
   "source": [
    "all_parfumes_cleaned.info()\n",
    "\n",
    "# Cleaning is done! "
   ]
  },
  {
   "cell_type": "code",
   "execution_count": null,
   "metadata": {},
   "outputs": [],
   "source": [
    "# Saving to csv\n",
    "\n",
    "all_parfumes_cleaned.to_csv('cleaned_frag_dataset.csv', index=False)"
   ]
  }
 ],
 "metadata": {
  "kernelspec": {
   "display_name": "parfume",
   "language": "python",
   "name": "python3"
  },
  "language_info": {
   "codemirror_mode": {
    "name": "ipython",
    "version": 3
   },
   "file_extension": ".py",
   "mimetype": "text/x-python",
   "name": "python",
   "nbconvert_exporter": "python",
   "pygments_lexer": "ipython3",
   "version": "3.12.5"
  }
 },
 "nbformat": 4,
 "nbformat_minor": 2
}
